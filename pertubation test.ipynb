{
 "cells": [
  {
   "cell_type": "code",
   "execution_count": 32,
   "metadata": {
    "collapsed": false
   },
   "outputs": [],
   "source": [
    "import numpy as np\n",
    "import pandas as pd\n",
    "import matplotlib.pyplot as plt\n",
    "import seaborn as sb\n",
    "%matplotlib inline"
   ]
  },
  {
   "cell_type": "code",
   "execution_count": 33,
   "metadata": {
    "collapsed": false
   },
   "outputs": [
    {
     "name": "stdout",
     "output_type": "stream",
     "text": [
      "     x     y  class\n",
      "0 -500 -1000      0\n",
      "1 -499  -998      0\n",
      "2 -498  -996      0\n",
      "3 -497  -994      0\n",
      "4 -496  -992      0\n"
     ]
    },
    {
     "data": {
      "text/html": [
       "<div>\n",
       "<style scoped>\n",
       "    .dataframe tbody tr th:only-of-type {\n",
       "        vertical-align: middle;\n",
       "    }\n",
       "\n",
       "    .dataframe tbody tr th {\n",
       "        vertical-align: top;\n",
       "    }\n",
       "\n",
       "    .dataframe thead th {\n",
       "        text-align: right;\n",
       "    }\n",
       "</style>\n",
       "<table border=\"1\" class=\"dataframe\">\n",
       "  <thead>\n",
       "    <tr style=\"text-align: right;\">\n",
       "      <th></th>\n",
       "      <th>x</th>\n",
       "      <th>y</th>\n",
       "      <th>class</th>\n",
       "    </tr>\n",
       "  </thead>\n",
       "  <tbody>\n",
       "    <tr>\n",
       "      <th>995</th>\n",
       "      <td>495</td>\n",
       "      <td>990</td>\n",
       "      <td>1</td>\n",
       "    </tr>\n",
       "    <tr>\n",
       "      <th>996</th>\n",
       "      <td>496</td>\n",
       "      <td>992</td>\n",
       "      <td>1</td>\n",
       "    </tr>\n",
       "    <tr>\n",
       "      <th>997</th>\n",
       "      <td>497</td>\n",
       "      <td>994</td>\n",
       "      <td>1</td>\n",
       "    </tr>\n",
       "    <tr>\n",
       "      <th>998</th>\n",
       "      <td>498</td>\n",
       "      <td>996</td>\n",
       "      <td>1</td>\n",
       "    </tr>\n",
       "    <tr>\n",
       "      <th>999</th>\n",
       "      <td>499</td>\n",
       "      <td>998</td>\n",
       "      <td>1</td>\n",
       "    </tr>\n",
       "  </tbody>\n",
       "</table>\n",
       "</div>"
      ],
      "text/plain": [
       "       x    y  class\n",
       "995  495  990      1\n",
       "996  496  992      1\n",
       "997  497  994      1\n",
       "998  498  996      1\n",
       "999  499  998      1"
      ]
     },
     "execution_count": 33,
     "metadata": {},
     "output_type": "execute_result"
    }
   ],
   "source": [
    "x=np.arange(-500,500,1)\n",
    "y=np.arange(-1000,1000,2)\n",
    "#y=np.flip(y,axis=0)\n",
    "df=pd.DataFrame({'x':x,'y':y})\n",
    "df.loc[:500,'class']=int(0)\n",
    "df.loc[500:,'class']=int(1)\n",
    "df=df.astype(int)\n",
    "print(df.head())\n",
    "df.tail()\n",
    "#df.shape\n",
    "#print(df)"
   ]
  },
  {
   "cell_type": "code",
   "execution_count": 34,
   "metadata": {
    "collapsed": false
   },
   "outputs": [
    {
     "name": "stdout",
     "output_type": "stream",
     "text": [
      "line normal vector and intercept is [[0.12469397 0.24938794]] [0.00315234]\n"
     ]
    }
   ],
   "source": [
    "from sklearn.linear_model import LogisticRegression\n",
    "lr=LogisticRegression()\n",
    "line=lr.fit(df.iloc[:,0:2],df.iloc[:,-1])\n",
    "print(\"line normal vector and intercept is\",line.coef_,line.intercept_)"
   ]
  },
  {
   "cell_type": "code",
   "execution_count": 35,
   "metadata": {
    "collapsed": false
   },
   "outputs": [
    {
     "data": {
      "text/plain": [
       "<matplotlib.figure.Figure at 0x7fbfdeb6bba8>"
      ]
     },
     "metadata": {},
     "output_type": "display_data"
    },
    {
     "data": {
      "image/png": "[encoded data removed]",
      "text/plain": [
       "<matplotlib.figure.Figure at 0x7fbfdeb65390>"
      ]
     },
     "metadata": {},
     "output_type": "display_data"
    }
   ],
   "source": [
    "plt.figure(figsize=(50,50))\n",
    "g = sb.FacetGrid(df,hue=\"class\")\n",
    "plt.axhline(0)\n",
    "plt.axvline(0)\n",
    "g = g.map(plt.scatter, \"x\", \"y\", edgecolor=\"w\")\n",
    "\n",
    "\n",
    "\n",
    "w = line.coef_[0]\n",
    "a = -w[0] / w[1]\n",
    "xx = np.linspace(-500, 500)\n",
    "yy = a * xx - (line.intercept_[0]) / w[1]\n",
    "\n",
    "plt.plot(xx, yy, 'k-')\n",
    "\n",
    "plt.show()\n"
   ]
  },
  {
   "cell_type": "code",
   "execution_count": 39,
   "metadata": {
    "collapsed": false
   },
   "outputs": [
    {
     "name": "stdout",
     "output_type": "stream",
     "text": [
      "[[0.12469397 0.24938794]] [0.00315234]\n",
      "epsion value is  0.014306723289415919\n",
      "line normal vector and intercept is [[0.12474446 0.24944458]] [0.00309907]\n",
      "epsion value is  -0.001873631336577451\n",
      "line normal vector and intercept is [[0.12468727 0.24938046]] [0.00315932]\n",
      "epsion value is  0.010737738036063942\n",
      "line normal vector and intercept is [[0.12473197 0.24943053]] [0.00311237]\n",
      "epsion value is  -0.00396026611842354\n",
      "line normal vector and intercept is [[0.12467979 0.24937212]] [0.00316708]\n",
      "epsion value is  0.0005508633130572009\n",
      "line normal vector and intercept is [[0.12469594 0.24939014]] [0.00315029]\n",
      "epsion value is  0.004470404130455868\n",
      "line normal vector and intercept is [[0.12470987 0.24940572]] [0.0031357]\n",
      "epsion value is  0.0032075327684094644\n",
      "line normal vector and intercept is [[0.12470539 0.24940071]] [0.0031404]\n",
      "epsion value is  0.002291412759884804\n",
      "line normal vector and intercept is [[0.12470213 0.24939707]] [0.00314381]\n",
      "epsion value is  -0.004084129343477634\n",
      "line normal vector and intercept is [[0.12467934 0.24937163]] [0.00316754]\n",
      "epsion value is  -0.01042047599566129\n",
      "line normal vector and intercept is [[0.12465647 0.24934619]] [0.00319111]\n",
      "epsion value is  0.01893747455264915\n",
      "line normal vector and intercept is [[0.12476055 0.24946274]] [0.00308182]\n",
      "epsion value is  -0.0054667154498434225\n",
      "line normal vector and intercept is [[0.12467437 0.24936609]] [0.00317269]\n",
      "epsion value is  0.0009818559325069187\n",
      "line normal vector and intercept is [[0.12469747 0.24939185]] [0.00314869]\n",
      "epsion value is  2.224083579313836e-05\n",
      "line normal vector and intercept is [[0.12469405 0.24938803]] [0.00315226]\n",
      "epsion value is  -0.006837205296049522\n",
      "line normal vector and intercept is [[0.12466943 0.24936059]] [0.00317778]\n",
      "epsion value is  0.0033576124838682214\n",
      "line normal vector and intercept is [[0.12470592 0.2494013 ]] [0.00313985]\n",
      "epsion value is  -0.009147350741116153\n",
      "line normal vector and intercept is [[0.12466108 0.24935131]] [0.00318638]\n",
      "epsion value is  0.0013011096488760143\n",
      "line normal vector and intercept is [[0.12469861 0.24939312]] [0.0031475]\n",
      "epsion value is  0.020161474332271275\n",
      "line normal vector and intercept is [[0.12476479 0.24946753]] [0.00307726]\n",
      "epsion value is  6.364723230424336e-05\n",
      "line normal vector and intercept is [[0.1246942  0.24938819]] [0.00315211]\n",
      "            x           y  class\n",
      "0 -499.999936 -999.999936      0\n",
      "1 -498.999936 -997.999936      0\n",
      "2 -497.999936 -995.999936      0\n",
      "3 -496.999936 -993.999936      0\n",
      "4 -495.999936 -991.999936      0\n"
     ]
    },
    {
     "data": {
      "text/html": [
       "<div>\n",
       "<style scoped>\n",
       "    .dataframe tbody tr th:only-of-type {\n",
       "        vertical-align: middle;\n",
       "    }\n",
       "\n",
       "    .dataframe tbody tr th {\n",
       "        vertical-align: top;\n",
       "    }\n",
       "\n",
       "    .dataframe thead th {\n",
       "        text-align: right;\n",
       "    }\n",
       "</style>\n",
       "<table border=\"1\" class=\"dataframe\">\n",
       "  <thead>\n",
       "    <tr style=\"text-align: right;\">\n",
       "      <th></th>\n",
       "      <th>x</th>\n",
       "      <th>y</th>\n",
       "      <th>class</th>\n",
       "    </tr>\n",
       "  </thead>\n",
       "  <tbody>\n",
       "    <tr>\n",
       "      <th>995</th>\n",
       "      <td>495.000064</td>\n",
       "      <td>990.000064</td>\n",
       "      <td>1</td>\n",
       "    </tr>\n",
       "    <tr>\n",
       "      <th>996</th>\n",
       "      <td>496.000064</td>\n",
       "      <td>992.000064</td>\n",
       "      <td>1</td>\n",
       "    </tr>\n",
       "    <tr>\n",
       "      <th>997</th>\n",
       "      <td>497.000064</td>\n",
       "      <td>994.000064</td>\n",
       "      <td>1</td>\n",
       "    </tr>\n",
       "    <tr>\n",
       "      <th>998</th>\n",
       "      <td>498.000064</td>\n",
       "      <td>996.000064</td>\n",
       "      <td>1</td>\n",
       "    </tr>\n",
       "    <tr>\n",
       "      <th>999</th>\n",
       "      <td>499.000064</td>\n",
       "      <td>998.000064</td>\n",
       "      <td>1</td>\n",
       "    </tr>\n",
       "  </tbody>\n",
       "</table>\n",
       "</div>"
      ],
      "text/plain": [
       "              x           y  class\n",
       "995  495.000064  990.000064      1\n",
       "996  496.000064  992.000064      1\n",
       "997  497.000064  994.000064      1\n",
       "998  498.000064  996.000064      1\n",
       "999  499.000064  998.000064      1"
      ]
     },
     "execution_count": 39,
     "metadata": {},
     "output_type": "execute_result"
    }
   ],
   "source": [
    "print(line.coef_,line.intercept_)\n",
    "for x in range(20):\n",
    "    lr1=LogisticRegression()\n",
    "    c=np.random.normal(0,0.01)\n",
    "    print('epsion value is ',c)\n",
    "    temp_df=pd.DataFrame()\n",
    "    temp_df['x']=df['x']+c\n",
    "    temp_df['y']=df['y']+c\n",
    "    temp_df['class']=df['class']\n",
    "    line1=lr1.fit(temp_df.iloc[:,0:2],temp_df.iloc[:,-1])\n",
    "    print(\"line normal vector and intercept is\",line1.coef_,line1.intercept_)\n",
    "print(temp_df.head())\n",
    "temp_df.tail()"
   ]
  },
  {
   "cell_type": "markdown",
   "metadata": {},
   "source": []
  },
  {
   "cell_type": "markdown",
   "metadata": {},
   "source": [
    "<image src=\"xx.png\">"
   ]
  }
 ],
 "metadata": {
  "kernelspec": {
   "display_name": "Python 3",
   "language": "python",
   "name": "python3"
  },
  "language_info": {
   "codemirror_mode": {
    "name": "ipython",
    "version": 3
   },
   "file_extension": ".py",
   "mimetype": "text/x-python",
   "name": "python",
   "nbconvert_exporter": "python",
   "pygments_lexer": "ipython3",
   "version": "3.5.2"
  },
  "widgets": {
   "state": {},
   "version": "1.1.2"
  }
 },
 "nbformat": 4,
 "nbformat_minor": 0
}
