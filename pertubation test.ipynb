{
 "cells": [
  {
   "cell_type": "code",
   "execution_count": 9,
   "metadata": {
    "collapsed": false
   },
   "outputs": [],
   "source": [
    "import numpy as np\n",
    "import pandas as pd\n",
    "import matplotlib.pyplot as plt\n",
    "import seaborn as sb\n",
    "%matplotlib inline"
   ]
  },
  {
   "cell_type": "code",
   "execution_count": 36,
   "metadata": {
    "collapsed": false
   },
   "outputs": [
    {
     "name": "stdout",
     "output_type": "stream",
     "text": [
      "     x     y  class\n",
      "0 -500 -1000      0\n",
      "1 -499  -998      0\n",
      "2 -498  -996      0\n",
      "3 -497  -994      0\n",
      "4 -496  -992      0\n"
     ]
    },
    {
     "data": {
      "text/html": [
       "<div>\n",
       "<style scoped>\n",
       "    .dataframe tbody tr th:only-of-type {\n",
       "        vertical-align: middle;\n",
       "    }\n",
       "\n",
       "    .dataframe tbody tr th {\n",
       "        vertical-align: top;\n",
       "    }\n",
       "\n",
       "    .dataframe thead th {\n",
       "        text-align: right;\n",
       "    }\n",
       "</style>\n",
       "<table border=\"1\" class=\"dataframe\">\n",
       "  <thead>\n",
       "    <tr style=\"text-align: right;\">\n",
       "      <th></th>\n",
       "      <th>x</th>\n",
       "      <th>y</th>\n",
       "      <th>class</th>\n",
       "    </tr>\n",
       "  </thead>\n",
       "  <tbody>\n",
       "    <tr>\n",
       "      <th>995</th>\n",
       "      <td>495</td>\n",
       "      <td>990</td>\n",
       "      <td>1</td>\n",
       "    </tr>\n",
       "    <tr>\n",
       "      <th>996</th>\n",
       "      <td>496</td>\n",
       "      <td>992</td>\n",
       "      <td>1</td>\n",
       "    </tr>\n",
       "    <tr>\n",
       "      <th>997</th>\n",
       "      <td>497</td>\n",
       "      <td>994</td>\n",
       "      <td>1</td>\n",
       "    </tr>\n",
       "    <tr>\n",
       "      <th>998</th>\n",
       "      <td>498</td>\n",
       "      <td>996</td>\n",
       "      <td>1</td>\n",
       "    </tr>\n",
       "    <tr>\n",
       "      <th>999</th>\n",
       "      <td>499</td>\n",
       "      <td>998</td>\n",
       "      <td>1</td>\n",
       "    </tr>\n",
       "  </tbody>\n",
       "</table>\n",
       "</div>"
      ],
      "text/plain": [
       "       x    y  class\n",
       "995  495  990      1\n",
       "996  496  992      1\n",
       "997  497  994      1\n",
       "998  498  996      1\n",
       "999  499  998      1"
      ]
     },
     "execution_count": 36,
     "metadata": {},
     "output_type": "execute_result"
    }
   ],
   "source": [
    "x=np.arange(-500,500,1)\n",
    "y=np.arange(-1000,1000,2)\n",
    "#y=np.flip(y,axis=0)\n",
    "df=pd.DataFrame({'x':x,'y':y})\n",
    "df.loc[:500,'class']=int(0)\n",
    "df.loc[500:,'class']=int(1)\n",
    "df=df.astype(int)\n",
    "print(df.head())\n",
    "df.tail()\n",
    "#df.shape\n",
    "#print(df)"
   ]
  },
  {
   "cell_type": "code",
   "execution_count": 37,
   "metadata": {
    "collapsed": false
   },
   "outputs": [
    {
     "name": "stdout",
     "output_type": "stream",
     "text": [
      "line normal vector and intercept is [[0.12469397 0.24938794]] [0.00315234]\n"
     ]
    }
   ],
   "source": [
    "from sklearn.linear_model import LogisticRegression\n",
    "lr=LogisticRegression()\n",
    "line=lr.fit(df.iloc[:,0:2],df.iloc[:,-1])\n",
    "print(\"line normal vector and intercept is\",line.coef_,line.intercept_)"
   ]
  },
  {
   "cell_type": "code",
   "execution_count": 38,
   "metadata": {
    "collapsed": false
   },
   "outputs": [
    {
     "data": {
      "text/plain": [
       "<matplotlib.figure.Figure at 0x7eff4643a5c0>"
      ]
     },
     "metadata": {},
     "output_type": "display_data"
    },
    {
     "data": {
      "image/png": "[encoded data removed]",
      "text/plain": [
       "<matplotlib.figure.Figure at 0x7eff4643a7f0>"
      ]
     },
     "metadata": {},
     "output_type": "display_data"
    }
   ],
   "source": [
    "plt.figure(figsize=(50,50))\n",
    "g = sb.FacetGrid(df,hue=\"class\")\n",
    "plt.axhline(0)\n",
    "plt.axvline(0)\n",
    "g = g.map(plt.scatter, \"x\", \"y\", edgecolor=\"w\")\n",
    "\n",
    "\n",
    "\n",
    "w = line.coef_[0]\n",
    "a = -w[0] / w[1]\n",
    "xx = np.linspace(-50, 50)\n",
    "yy = a * xx - (line.intercept_[0]) / w[1]\n",
    "\n",
    "plt.plot(xx, yy, 'k-')\n",
    "\n",
    "plt.show()\n"
   ]
  },
  {
   "cell_type": "code",
   "execution_count": 39,
   "metadata": {
    "collapsed": false
   },
   "outputs": [
    {
     "name": "stdout",
     "output_type": "stream",
     "text": [
      "[[0.12469397 0.24938794]] [0.00315234]\n",
      "line normal vector and intercept is [[0.12477067 0.24947419]] [0.00307091]\n",
      "line normal vector and intercept is [[0.12475891 0.24946088]] [0.00308359]\n",
      "line normal vector and intercept is [[0.12477019 0.24947365]] [0.00307143]\n",
      "line normal vector and intercept is [[0.12479586 0.24950279]] [0.00304349]\n",
      "line normal vector and intercept is [[0.12478948 0.24949552]] [0.00305048]\n",
      "line normal vector and intercept is [[0.12480717 0.24951567]] [0.00303107]\n",
      "line normal vector and intercept is [[0.12481761 0.24952759]] [0.00301954]\n",
      "line normal vector and intercept is [[0.12491804 0.24964358]] [0.00290527]\n",
      "line normal vector and intercept is [[0.12495017 0.24968124]] [0.00286733]\n",
      "line normal vector and intercept is [[0.1249486 0.2496794]] [0.0028692]\n",
      "line normal vector and intercept is [[0.12493845 0.24966747]] [0.00288126]\n",
      "line normal vector and intercept is [[0.12488116 0.24960069]] [0.00294797]\n",
      "line normal vector and intercept is [[0.12485357 0.24956884]] [0.00297934]\n",
      "line normal vector and intercept is [[0.12487729 0.24959622]] [0.00295239]\n",
      "line normal vector and intercept is [[0.12486586 0.249583  ]] [0.00296543]\n",
      "line normal vector and intercept is [[0.12487026 0.24958808]] [0.00296042]\n",
      "line normal vector and intercept is [[0.12487035 0.24958818]] [0.00296032]\n",
      "line normal vector and intercept is [[0.12489288 0.24961429]] [0.00293449]\n",
      "line normal vector and intercept is [[0.12495054 0.24968168]] [0.00286689]\n",
      "line normal vector and intercept is [[0.12492209 0.24964831]] [0.00290053]\n",
      "            x           y  class\n",
      "0 -499.932472 -999.932472      0\n",
      "1 -498.932472 -997.932472      0\n",
      "2 -497.932472 -995.932472      0\n",
      "3 -496.932472 -993.932472      0\n",
      "4 -495.932472 -991.932472      0\n"
     ]
    },
    {
     "data": {
      "text/html": [
       "<div>\n",
       "<style scoped>\n",
       "    .dataframe tbody tr th:only-of-type {\n",
       "        vertical-align: middle;\n",
       "    }\n",
       "\n",
       "    .dataframe tbody tr th {\n",
       "        vertical-align: top;\n",
       "    }\n",
       "\n",
       "    .dataframe thead th {\n",
       "        text-align: right;\n",
       "    }\n",
       "</style>\n",
       "<table border=\"1\" class=\"dataframe\">\n",
       "  <thead>\n",
       "    <tr style=\"text-align: right;\">\n",
       "      <th></th>\n",
       "      <th>x</th>\n",
       "      <th>y</th>\n",
       "      <th>class</th>\n",
       "    </tr>\n",
       "  </thead>\n",
       "  <tbody>\n",
       "    <tr>\n",
       "      <th>995</th>\n",
       "      <td>495.067528</td>\n",
       "      <td>990.067528</td>\n",
       "      <td>1</td>\n",
       "    </tr>\n",
       "    <tr>\n",
       "      <th>996</th>\n",
       "      <td>496.067528</td>\n",
       "      <td>992.067528</td>\n",
       "      <td>1</td>\n",
       "    </tr>\n",
       "    <tr>\n",
       "      <th>997</th>\n",
       "      <td>497.067528</td>\n",
       "      <td>994.067528</td>\n",
       "      <td>1</td>\n",
       "    </tr>\n",
       "    <tr>\n",
       "      <th>998</th>\n",
       "      <td>498.067528</td>\n",
       "      <td>996.067528</td>\n",
       "      <td>1</td>\n",
       "    </tr>\n",
       "    <tr>\n",
       "      <th>999</th>\n",
       "      <td>499.067528</td>\n",
       "      <td>998.067528</td>\n",
       "      <td>1</td>\n",
       "    </tr>\n",
       "  </tbody>\n",
       "</table>\n",
       "</div>"
      ],
      "text/plain": [
       "              x           y  class\n",
       "995  495.067528  990.067528      1\n",
       "996  496.067528  992.067528      1\n",
       "997  497.067528  994.067528      1\n",
       "998  498.067528  996.067528      1\n",
       "999  499.067528  998.067528      1"
      ]
     },
     "execution_count": 39,
     "metadata": {},
     "output_type": "execute_result"
    }
   ],
   "source": [
    "print(line.coef_,line.intercept_)\n",
    "for x in range(20):\n",
    "    c=np.random.normal(0,0.01)\n",
    "    #print(c)\n",
    "    df['x']=df['x']+c\n",
    "    df['y']=df['y']+c\n",
    "    #print(df.tail(1))\n",
    "    line=lr.fit(df.iloc[:,0:2],df.iloc[:,-1])\n",
    "    print(\"line normal vector and intercept is\",line.coef_,line.intercept_)\n",
    "print(df.head())\n",
    "df.tail()"
   ]
  },
  {
   "cell_type": "markdown",
   "metadata": {},
   "source": []
  },
  {
   "cell_type": "markdown",
   "metadata": {},
   "source": [
    "<image src=\"xx.png\">"
   ]
  }
 ],
 "metadata": {
  "kernelspec": {
   "display_name": "Python 3",
   "language": "python",
   "name": "python3"
  },
  "language_info": {
   "codemirror_mode": {
    "name": "ipython",
    "version": 3
   },
   "file_extension": ".py",
   "mimetype": "text/x-python",
   "name": "python",
   "nbconvert_exporter": "python",
   "pygments_lexer": "ipython3",
   "version": "3.5.2"
  },
  "widgets": {
   "state": {},
   "version": "1.1.2"
  }
 },
 "nbformat": 4,
 "nbformat_minor": 0
}
