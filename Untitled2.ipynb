{
 "cells": [
  {
   "cell_type": "code",
   "execution_count": 9,
   "metadata": {
    "collapsed": false
   },
   "outputs": [],
   "source": [
    "import numpy as np\n",
    "import pandas as pd\n",
    "import matplotlib.pyplot as plt\n",
    "import seaborn as sb\n",
    "%matplotlib inline"
   ]
  },
  {
   "cell_type": "code",
   "execution_count": 20,
   "metadata": {
    "collapsed": false
   },
   "outputs": [
    {
     "name": "stdout",
     "output_type": "stream",
     "text": [
      "    x    y  class\n",
      "0 -50 -100      0\n",
      "1 -49  -98      0\n",
      "2 -48  -96      0\n",
      "3 -47  -94      0\n",
      "4 -46  -92      0\n"
     ]
    },
    {
     "data": {
      "text/html": [
       "<div>\n",
       "<style scoped>\n",
       "    .dataframe tbody tr th:only-of-type {\n",
       "        vertical-align: middle;\n",
       "    }\n",
       "\n",
       "    .dataframe tbody tr th {\n",
       "        vertical-align: top;\n",
       "    }\n",
       "\n",
       "    .dataframe thead th {\n",
       "        text-align: right;\n",
       "    }\n",
       "</style>\n",
       "<table border=\"1\" class=\"dataframe\">\n",
       "  <thead>\n",
       "    <tr style=\"text-align: right;\">\n",
       "      <th></th>\n",
       "      <th>x</th>\n",
       "      <th>y</th>\n",
       "      <th>class</th>\n",
       "    </tr>\n",
       "  </thead>\n",
       "  <tbody>\n",
       "    <tr>\n",
       "      <th>95</th>\n",
       "      <td>45</td>\n",
       "      <td>90</td>\n",
       "      <td>1</td>\n",
       "    </tr>\n",
       "    <tr>\n",
       "      <th>96</th>\n",
       "      <td>46</td>\n",
       "      <td>92</td>\n",
       "      <td>1</td>\n",
       "    </tr>\n",
       "    <tr>\n",
       "      <th>97</th>\n",
       "      <td>47</td>\n",
       "      <td>94</td>\n",
       "      <td>1</td>\n",
       "    </tr>\n",
       "    <tr>\n",
       "      <th>98</th>\n",
       "      <td>48</td>\n",
       "      <td>96</td>\n",
       "      <td>1</td>\n",
       "    </tr>\n",
       "    <tr>\n",
       "      <th>99</th>\n",
       "      <td>49</td>\n",
       "      <td>98</td>\n",
       "      <td>1</td>\n",
       "    </tr>\n",
       "  </tbody>\n",
       "</table>\n",
       "</div>"
      ],
      "text/plain": [
       "     x   y  class\n",
       "95  45  90      1\n",
       "96  46  92      1\n",
       "97  47  94      1\n",
       "98  48  96      1\n",
       "99  49  98      1"
      ]
     },
     "execution_count": 20,
     "metadata": {},
     "output_type": "execute_result"
    }
   ],
   "source": [
    "x=np.arange(-50,50,1)\n",
    "y=np.arange(-100,100,2)\n",
    "#y=np.flip(y,axis=0)\n",
    "df=pd.DataFrame({'x':x,'y':y})\n",
    "df.loc[:50,'class']=int(0)\n",
    "df.loc[50:,'class']=int(1)\n",
    "df=df.astype(int)\n",
    "print(df.head())\n",
    "df.tail()\n",
    "#df.shape\n",
    "#print(df)"
   ]
  },
  {
   "cell_type": "code",
   "execution_count": 21,
   "metadata": {
    "collapsed": false
   },
   "outputs": [
    {
     "name": "stdout",
     "output_type": "stream",
     "text": [
      "line normal vector and intercept is [[0.36821185 0.73642369]] [0.31637294]\n"
     ]
    }
   ],
   "source": [
    "from sklearn.linear_model import LogisticRegression\n",
    "lr=LogisticRegression()\n",
    "line=lr.fit(df.iloc[:,0:2],df.iloc[:,-1])\n",
    "print(\"line normal vector and intercept is\",line.coef_,line.intercept_)"
   ]
  },
  {
   "cell_type": "code",
   "execution_count": 26,
   "metadata": {
    "collapsed": false
   },
   "outputs": [
    {
     "data": {
      "text/plain": [
       "<matplotlib.figure.Figure at 0x7eff46437dd8>"
      ]
     },
     "metadata": {},
     "output_type": "display_data"
    },
    {
     "data": {
      "image/png": "[encoded data removed]",
      "text/plain": [
       "<matplotlib.figure.Figure at 0x7eff77c82470>"
      ]
     },
     "metadata": {},
     "output_type": "display_data"
    },
    {
     "data": {
      "text/plain": [
       "<matplotlib.figure.Figure at 0x7eff55d3d4e0>"
      ]
     },
     "metadata": {},
     "output_type": "display_data"
    }
   ],
   "source": [
    "plt.figure(figsize=(50,50))\n",
    "g = sb.FacetGrid(df,hue=\"class\")\n",
    "plt.axhline(0)\n",
    "plt.axvline(0)\n",
    "g = g.map(plt.scatter, \"x\", \"y\", edgecolor=\"w\")\n",
    "\n",
    "\n",
    "\n",
    "w = line.coef_[0]\n",
    "a = -w[0] / w[1]\n",
    "xx = np.linspace(-50, 50)\n",
    "yy = a * xx - (line.intercept_[0]) / w[1]\n",
    "\n",
    "plt.plot(xx, yy, 'k-')\n",
    "\n",
    "plt.show()\n",
    "\n",
    "\n",
    "plt.savefig(\"dcdsbhcbdsbj.png\")"
   ]
  },
  {
   "cell_type": "code",
   "execution_count": 28,
   "metadata": {
    "collapsed": false
   },
   "outputs": [
    {
     "name": "stdout",
     "output_type": "stream",
     "text": [
      "[[0.40085161 0.75106375]] [0.2406172]\n",
      "line normal vector and intercept is [[0.40862129 0.75640687]] [0.21280933]\n",
      "line normal vector and intercept is [[0.40544229 0.7540407 ]] [0.22515833]\n",
      "line normal vector and intercept is [[0.39916656 0.75006713]] [0.24577797]\n",
      "line normal vector and intercept is [[0.40580393 0.75429505]] [0.22383387]\n",
      "line normal vector and intercept is [[0.39036307 0.74544563]] [0.26965636]\n",
      "line normal vector and intercept is [[0.3960695  0.74834055]] [0.25470645]\n",
      "line normal vector and intercept is [[0.37282401 0.73808832]] [0.30771304]\n",
      "line normal vector and intercept is [[0.35409729 0.73182052]] [0.34050528]\n",
      "line normal vector and intercept is [[0.37569947 0.73917415]] [0.30207809]\n",
      "line normal vector and intercept is [[0.37313996 0.73820574]] [0.30710321]\n",
      "line normal vector and intercept is [[0.38079082 0.74119944]] [0.29159041]\n",
      "line normal vector and intercept is [[0.38597944 0.7434203 ]] [0.2801131]\n",
      "line normal vector and intercept is [[0.36887137 0.73665628]] [0.31516124]\n",
      "line normal vector and intercept is [[0.35919213 0.73340562]] [0.33215895]\n",
      "line normal vector and intercept is [[0.34778088 0.73036263]] [0.3558841]\n",
      "line normal vector and intercept is [[0.33350608 0.72678294]] [0.37634994]\n",
      "line normal vector and intercept is [[0.3525046  0.73134083]] [0.34304]\n",
      "line normal vector and intercept is [[0.36023616 0.73374047]] [0.33040113]\n",
      "line normal vector and intercept is [[0.34899192 0.73068826]] [0.35404589]\n",
      "line normal vector and intercept is [[0.32764689 0.72543751]] [0.38418455]\n"
     ]
    }
   ],
   "source": [
    "print(line.coef_,line.intercept_)\n",
    "for x in range(20):\n",
    "    c=np.random.normal(0,0.1)\n",
    "    #print(c)\n",
    "    df['x']=df['x']+c\n",
    "    df['y']=df['y']+c\n",
    "    #print(df.tail(1))\n",
    "    line=lr.fit(df.iloc[:,0:2],df.iloc[:,-1])\n",
    "    print(\"line normal vector and intercept is\",line.coef_,line.intercept_)\n",
    "#df"
   ]
  },
  {
   "cell_type": "markdown",
   "metadata": {},
   "source": [
    "<img src=\"xx.png\">"
   ]
  },
  {
   "cell_type": "markdown",
   "metadata": {},
   "source": [
    "<image src=\"xx.png\">"
   ]
  }
 ],
 "metadata": {
  "kernelspec": {
   "display_name": "Python 3",
   "language": "python",
   "name": "python3"
  },
  "language_info": {
   "codemirror_mode": {
    "name": "ipython",
    "version": 3
   },
   "file_extension": ".py",
   "mimetype": "text/x-python",
   "name": "python",
   "nbconvert_exporter": "python",
   "pygments_lexer": "ipython3",
   "version": "3.5.2"
  },
  "widgets": {
   "state": {},
   "version": "1.1.2"
  }
 },
 "nbformat": 4,
 "nbformat_minor": 0
}
